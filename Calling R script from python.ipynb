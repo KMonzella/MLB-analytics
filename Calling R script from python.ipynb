{
 "cells": [
  {
   "cell_type": "markdown",
   "metadata": {},
   "source": [
    "Name: Kelley Monzella\n",
    "\n",
    "Date: 2/27/2021\n",
    "\n",
    "Description: Write python wrapper to call R script of Bill Petti's data"
   ]
  },
  {
   "cell_type": "code",
   "execution_count": null,
   "metadata": {
    "collapsed": true
   },
   "outputs": [],
   "source": [
    "### Step 1: Load R script (including libraries and functions)"
   ]
  },
  {
   "cell_type": "code",
   "execution_count": null,
   "metadata": {
    "collapsed": true
   },
   "outputs": [],
   "source": [
    "# this should source the R code and read in the main function, f. This function takes a single parameter, the gamepk ID\n",
    "# we call this function in the step below\n",
    "# Note that the R script 00_statcast_api_scraping_single.R is saved in the same folder as this jupyter notebook \n",
    "\n",
    "import subprocess\n",
    "subprocess.check_call(['Rscript', '00_statcast_api_scraping_single.R'], shell=False)"
   ]
  },
  {
   "cell_type": "code",
   "execution_count": null,
   "metadata": {
    "collapsed": true
   },
   "outputs": [],
   "source": [
    "### Step 2: Call function in python"
   ]
  },
  {
   "cell_type": "code",
   "execution_count": null,
   "metadata": {
    "collapsed": true
   },
   "outputs": [],
   "source": [
    "# in this section of code, the user should update the gids parameter (below), which is the input to the function f\n",
    "# this then runs f and then saves the datafile.?\n",
    "# HOWEVER -- this has not been tested! I am not sure if you can actually call R code in python (perhaps by updating this cell type)\n",
    "# although I know you can source code, like I have done above.\n",
    "\n",
    "gids <- [INSERT GAME ID HERE]\n",
    "dat <- f(gids)\n",
    "saveRDS(dat, file = \"statcastsingle.rds\", compress=FALSE)\n",
    "  \n",
    "  \n",
    "  \n",
    "  \n",
    "  \n",
    "  "
   ]
  }
 ],
 "metadata": {
  "kernelspec": {
   "display_name": "Python 3",
   "language": "python",
   "name": "python3"
  },
  "language_info": {
   "codemirror_mode": {
    "name": "ipython",
    "version": 3
   },
   "file_extension": ".py",
   "mimetype": "text/x-python",
   "name": "python",
   "nbconvert_exporter": "python",
   "pygments_lexer": "ipython3",
   "version": "3.6.3"
  }
 },
 "nbformat": 4,
 "nbformat_minor": 2
}
